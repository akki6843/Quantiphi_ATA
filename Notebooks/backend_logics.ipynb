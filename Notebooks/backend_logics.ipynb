{
 "cells": [
  {
   "cell_type": "markdown",
   "id": "620f0c11-a70d-410b-b2eb-f0b4e6b6824f",
   "metadata": {},
   "source": [
    "# Implementation of Custom RAG Pipeline:"
   ]
  },
  {
   "cell_type": "markdown",
   "id": "c2c1ebae-a69c-403f-a88c-982aef75cfdd",
   "metadata": {},
   "source": [
    "### Importing Required Libraries."
   ]
  },
  {
   "cell_type": "code",
   "execution_count": 1,
   "id": "0d826502-a796-4093-be08-a2e76f0115ec",
   "metadata": {
    "tags": []
   },
   "outputs": [
    {
     "name": "stderr",
     "output_type": "stream",
     "text": [
      "C:\\Users\\aksha\\anaconda3\\envs\\qunatiphi\\lib\\site-packages\\sentence_transformers\\cross_encoder\\CrossEncoder.py:13: TqdmExperimentalWarning: Using `tqdm.autonotebook.tqdm` in notebook mode. Use `tqdm.tqdm` instead to force console mode (e.g. in jupyter console)\n",
      "  from tqdm.autonotebook import tqdm, trange\n"
     ]
    }
   ],
   "source": [
    "import re\n",
    "import requests\n",
    "import PyPDF2\n",
    "from sentence_transformers import SentenceTransformer\n",
    "import faiss\n",
    "from transformers import pipeline\n",
    "from nltk.translate.bleu_score import sentence_bleu"
   ]
  },
  {
   "cell_type": "code",
   "execution_count": 2,
   "id": "d931f58a",
   "metadata": {},
   "outputs": [
    {
     "name": "stdout",
     "output_type": "stream",
     "text": [
      "PDF downloaded successfully!\n"
     ]
    }
   ],
   "source": [
    "BOOK_LINK = \"https://assets.openstax.org/oscms-prodcms/media/documents/ConceptsofBiology-WEB.pdf?_gl=1*s5knas*_gcl_au*MTQxNTA5MzAxMS4xNzI3MzYzOTQ1*_ga*NjQ4ODA0NDk0LjE3MjczNjM5NDU.*_ga_T746F8B0QC*MTcyNzYzNjE1Mi4yLjEuMTcyNzYzNjE1Mi42MC4wLjA.\"\n",
    "response = requests.get(BOOK_LINK)\n",
    "with open(\"sample.pdf\", \"wb\") as file:\n",
    "        file.write(response.content)\n",
    "print(\"PDF downloaded successfully!\")"
   ]
  },
  {
   "cell_type": "markdown",
   "id": "09367848-0929-4930-95af-1d3083778e20",
   "metadata": {},
   "source": [
    "### Calling dowanloaded pdf into variable for processing."
   ]
  },
  {
   "cell_type": "code",
   "execution_count": 3,
   "id": "70e6e7cd-782a-4266-b942-715455316c03",
   "metadata": {
    "tags": []
   },
   "outputs": [],
   "source": [
    "textbook_file = \"./sample.pdf\""
   ]
  },
  {
   "cell_type": "markdown",
   "id": "31ff0d86-d93a-45fa-be0b-470ff9281bef",
   "metadata": {},
   "source": [
    "### Function to extract text from PDF"
   ]
  },
  {
   "cell_type": "code",
   "execution_count": 4,
   "id": "8404b859-18f6-48ab-ac50-b3023c3eb62d",
   "metadata": {},
   "outputs": [],
   "source": [
    "def extract_text_from_pdf(pdf_path, start_page, end_page):\n",
    "    \"\"\"\n",
    "    Function to extract data from target pages of PDF.\n",
    "    \"\"\"\n",
    "    text = \"\"\n",
    "    lines = []\n",
    "    with open(pdf_path, \"rb\") as f:\n",
    "        reader = PyPDF2.PdfReader(f)\n",
    "        for page_num in range(start_page, end_page):\n",
    "            page = reader.pages[page_num]\n",
    "            text += page.extract_text()\n",
    "            lines.extend(page.extract_text().splitlines())\n",
    "    return text, lines\n",
    "\n",
    "def clean_text(text):\n",
    "    \"Dummy Function that can be used to perform data cleaning.\"\n",
    "    return text"
   ]
  },
  {
   "cell_type": "code",
   "execution_count": 5,
   "id": "035895fb-976d-4509-89d5-0053a2fc1bb2",
   "metadata": {
    "tags": []
   },
   "outputs": [],
   "source": [
    "chaper_1, lines_1 = extract_text_from_pdf(textbook_file, 5, 130)"
   ]
  },
  {
   "cell_type": "code",
   "execution_count": 6,
   "id": "58b15c6f-6d16-4f7a-af64-9edebc987d1a",
   "metadata": {
    "tags": []
   },
   "outputs": [],
   "source": [
    "lines_1 = list(map(clean_text, lines_1))"
   ]
  },
  {
   "cell_type": "markdown",
   "id": "cd78b0bb-68c8-4f74-90df-711fd2db5c2a",
   "metadata": {},
   "source": [
    "### Performing embeddings calculations to make data source for the RAG implemmentation."
   ]
  },
  {
   "cell_type": "code",
   "execution_count": 7,
   "id": "4dda9ae7-1442-4ec2-bea1-65faa9f955a2",
   "metadata": {
    "tags": []
   },
   "outputs": [
    {
     "name": "stderr",
     "output_type": "stream",
     "text": [
      "No sentence-transformers model found with name ashakthy/biology. Creating a new one with mean pooling.\n",
      "C:\\Users\\aksha\\anaconda3\\envs\\qunatiphi\\lib\\site-packages\\transformers\\models\\gpt2\\modeling_gpt2.py:544: UserWarning: 1Torch was not compiled with flash attention. (Triggered internally at C:\\cb\\pytorch_1000000000000\\work\\aten\\src\\ATen\\native\\transformers\\cuda\\sdp_utils.cpp:555.)\n",
      "  attn_output = torch.nn.functional.scaled_dot_product_attention(\n"
     ]
    }
   ],
   "source": [
    "def get_embeddings(data):\n",
    "    model = SentenceTransformer(\"ashakthy/biology\")\n",
    "    model.max_seq_length = 768\n",
    "    data_vectos = model.encode(data)\n",
    "    return data_vectos\n",
    "\n",
    "embeddings_lines1 = get_embeddings(lines_1)"
   ]
  },
  {
   "cell_type": "markdown",
   "id": "b3758542-7afb-49db-aca8-3ca7f61d8346",
   "metadata": {},
   "source": [
    "### Using In-Memory vector database to perform indexing."
   ]
  },
  {
   "cell_type": "code",
   "execution_count": 8,
   "id": "3d94a617-f412-4110-8ba0-4a611a8f2904",
   "metadata": {},
   "outputs": [],
   "source": [
    "index = faiss.IndexFlatL2(embeddings_lines1.shape[1])\n",
    "index.add(embeddings_lines1)"
   ]
  },
  {
   "cell_type": "code",
   "execution_count": 9,
   "id": "14ea4dd8-2121-4eeb-bc71-37c04812429b",
   "metadata": {},
   "outputs": [],
   "source": [
    "# model : ashakthy/biology"
   ]
  },
  {
   "cell_type": "markdown",
   "id": "c95a1ee1-63b7-4892-a606-6a865f820828",
   "metadata": {},
   "source": [
    "### Functions for Retrival and Answer Generation."
   ]
  },
  {
   "cell_type": "code",
   "execution_count": 10,
   "id": "2710bebb-ba17-4048-8835-81ce473a64d6",
   "metadata": {},
   "outputs": [],
   "source": [
    "def retrieve(query, k=5):\n",
    "    query_embedding = get_embeddings([query])\n",
    "    distances, indices = index.search(query_embedding, k)\n",
    "    return [lines_1[i] for i in indices[0]]\n",
    "\n",
    "def generate_answer(retrieved_chunks, question):\n",
    "    context = \" \".join(retrieved_chunks)\n",
    "    input_text = f\"Question: {question}\\nContext: {context}\\n Answer:\"\n",
    "    # Use a HuggingFace model for generation\n",
    "    generator = pipeline('text-generation', model=\"ashakthy/biology\", device=0)\n",
    "    answer = generator(input_text, max_new_tokens=embeddings_lines1.shape[1], num_return_sequences=1)\n",
    "    return answer[0]['generated_text']"
   ]
  },
  {
   "cell_type": "markdown",
   "id": "23983f12-09b8-40be-9584-4aa6ef74d4e3",
   "metadata": {},
   "source": [
    "### Generating answers for a question."
   ]
  },
  {
   "cell_type": "code",
   "execution_count": 11,
   "id": "24eb3b71-6866-4469-9d59-59a06c277c69",
   "metadata": {},
   "outputs": [
    {
     "name": "stderr",
     "output_type": "stream",
     "text": [
      "No sentence-transformers model found with name ashakthy/biology. Creating a new one with mean pooling.\n"
     ]
    },
    {
     "name": "stdout",
     "output_type": "stream",
     "text": [
      "Question: What is the main topic of Chapter 3?\n",
      "Context: strands is the same al l along the molecule .50 2 • Chemis try of Life is a molecule that is lit erally the tar get of the drug . In the case o f statins , HMG -CoA r eductase is the drug tar get. extracellular fluid in which the y are bathed; at the same time , cells ha ve higher c oncentr ations o f potas sium (K+) A doct or injects a patient with what the doct or think s is isot onic saline solution. The patient dies , and aut opsy how the br ain functions? A planetarium? Gems and miner als? Or ma ybe al l of the abo ve? Scienc e includes such\n",
      " Answer:\n",
      "\n",
      "\n",
      "In summary, the same production of the formation of these proteins are three enzyme. However, this viruses the development of an increased oxygen into the the tissue the first step is known as the endangered species for the endoplasmo. Altered hormones, which is a threats, the body's surface rate of oothalization of the Biratory system of cell membrane-2 (CD through the mammals in the virus may result, weakenlysis, such as well as an increased is because the enzyme (e. This approach play a decrease from the genetic information inflammatory infections, which the formation of T cells. In the spores such as the release of tissue form proteins that is the cell. This is the specific from the body. The cortisol, including the virus's brain chain process of the skin, which can be achieved through the host has been a complex Apoor destruction of the viral in the bloodulin through the cell, including cell, where liver's disease, the liver and the immune system, which is involved in the process of in this-tolerbials on the protein, which the cell wall, such as the evolutionaryotic through the the release of the body. They are highly evolved in the production of these, increasing the most significant affect the brain reproductive system, such as H can be more frequent proteins. In this (H, such as the process of the blood cells, tRNA, such as the blood cells, is primarily in a decrease in the production of the virus that are responsible for maintaining the endoporous cycling of the the enzymes, and nutrients:\n",
      "\n",
      "\n",
      "\n",
      "\n",
      "4a) cells, these in virus, tissue may involve the body. If a particular, the pathogen has several specific proteins that help in the body. This through a small, it has been shown to the immungi, the bone production of plant. The primary degrade it at the brain, which plays a significant role in the immunomly, receptors on the viral infection and enzymes, such as clomergence of the ability to the production of immune system that increase infection has specific immune system. However, the immune system in a decrease in each may enhance the same immune cells, such as the body include: Genetic engineering of the reabsoras, the immune cell, where the osteocyroid gland, promising cellular t-specific cells, such as it is the formation of virus of the immune system, which are responsible for the normal cells can lead to the plant species) infections can affect the risk of the body's body's brain's immune system, such as the enzymes such as the immunomod and is the cell, the development of viral drugs, the immune system to the body size of these infection, leading to the adrenal and in the immune response, can cause of the production and disrupting. The antibody between the immune system, this process. I and infected cells, such as the production of an or enzymes, and aquatic cycling the parasites, and the and mothytosis. The ability to the host's ability to the virugs for their mammalicides, bacterial cells and a crucial role inhibiting the B. This process include:\n",
      "\n",
      "\n",
      "\n",
      "\n",
      "\n",
      "In summary, it is associated\n"
     ]
    }
   ],
   "source": [
    "# question = \"What is most remark able to consider is that a hemoglobin molecule is made up of two alpha chains and two beta proteins?\"\n",
    "question = \"What is the main topic of Chapter 3?\"\n",
    "retrieved_chunks = retrieve(question)\n",
    "answer = generate_answer(retrieved_chunks, question)\n",
    "print(answer)"
   ]
  },
  {
   "cell_type": "markdown",
   "id": "5c545f7f-0190-4b7b-8a18-ff1963d09c6e",
   "metadata": {},
   "source": [
    "### Checking Performance "
   ]
  },
  {
   "cell_type": "code",
   "execution_count": 12,
   "id": "0d05053c-e79a-41ae-b0dd-cfe8c3376447",
   "metadata": {},
   "outputs": [
    {
     "name": "stderr",
     "output_type": "stream",
     "text": [
      "No sentence-transformers model found with name ashakthy/biology. Creating a new one with mean pooling.\n",
      "C:\\Users\\aksha\\anaconda3\\envs\\qunatiphi\\lib\\site-packages\\nltk\\translate\\bleu_score.py:577: UserWarning: \n",
      "The hypothesis contains 0 counts of 3-gram overlaps.\n",
      "Therefore the BLEU score evaluates to 0, independently of\n",
      "how many N-gram overlaps of lower order it contains.\n",
      "Consider using lower n-gram order or use SmoothingFunction()\n",
      "  warnings.warn(_msg)\n",
      "C:\\Users\\aksha\\anaconda3\\envs\\qunatiphi\\lib\\site-packages\\nltk\\translate\\bleu_score.py:577: UserWarning: \n",
      "The hypothesis contains 0 counts of 4-gram overlaps.\n",
      "Therefore the BLEU score evaluates to 0, independently of\n",
      "how many N-gram overlaps of lower order it contains.\n",
      "Consider using lower n-gram order or use SmoothingFunction()\n",
      "  warnings.warn(_msg)\n",
      "No sentence-transformers model found with name ashakthy/biology. Creating a new one with mean pooling.\n"
     ]
    },
    {
     "name": "stdout",
     "output_type": "stream",
     "text": [
      "Evaluation Results: 4.274446036151339e-232\n"
     ]
    },
    {
     "name": "stderr",
     "output_type": "stream",
     "text": [
      "C:\\Users\\aksha\\anaconda3\\envs\\qunatiphi\\lib\\site-packages\\nltk\\translate\\bleu_score.py:577: UserWarning: \n",
      "The hypothesis contains 0 counts of 2-gram overlaps.\n",
      "Therefore the BLEU score evaluates to 0, independently of\n",
      "how many N-gram overlaps of lower order it contains.\n",
      "Consider using lower n-gram order or use SmoothingFunction()\n",
      "  warnings.warn(_msg)\n"
     ]
    }
   ],
   "source": [
    "# Assuming 'chunks' is a list of text chunks and 'index' is a FAISS index\n",
    "# Example test cases\n",
    "test_cases = [\n",
    "    {\"question\": \"What is the main topic of Chapter 1?\", \"answer\": \"Introduction to the subject\"},\n",
    "    {\"question\": \"Explain the key concepts of Chapter 3.\", \"answer\": \"How Cells Are Studied, Comparing Prokaryotic and Eukaryotic Cells, Eukaryotic Cells, The Cell Membrane, Passive TransportActive Transport\"}\n",
    "]\n",
    "\n",
    "\n",
    "# Evaluation function\n",
    "def evaluate(test_cases):\n",
    "    precision_scores = []\n",
    "    recall_scores = []\n",
    "    f1_scores = []\n",
    "    bleu_scores = []\n",
    "    rouge_scores = []\n",
    "    \n",
    "    for case in test_cases:\n",
    "        question = case['question']\n",
    "        true_answer = case['answer']\n",
    "        \n",
    "        # Retrieve and generate answer\n",
    "        retrieved_chunks = retrieve(question)\n",
    "        generated_answer = generate_answer(retrieved_chunks, question)\n",
    "        \n",
    "        bleu_score = sentence_bleu([true_answer.split()], generated_answer.split())\n",
    "    return bleu_score\n",
    "\n",
    "\n",
    "# Run evaluation\n",
    "results = evaluate(test_cases)\n",
    "print(f\"Evaluation Results: {results}\")\n"
   ]
  },
  {
   "cell_type": "code",
   "execution_count": null,
   "id": "dd08d0b7-0c1c-4b2d-87d6-6c3c58f56252",
   "metadata": {},
   "outputs": [],
   "source": []
  }
 ],
 "metadata": {
  "kernelspec": {
   "display_name": "Python 3 (ipykernel)",
   "language": "python",
   "name": "python3"
  },
  "language_info": {
   "codemirror_mode": {
    "name": "ipython",
    "version": 3
   },
   "file_extension": ".py",
   "mimetype": "text/x-python",
   "name": "python",
   "nbconvert_exporter": "python",
   "pygments_lexer": "ipython3",
   "version": "3.10.14"
  }
 },
 "nbformat": 4,
 "nbformat_minor": 5
}
